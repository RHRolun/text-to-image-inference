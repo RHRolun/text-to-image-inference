{
 "cells": [
  {
   "cell_type": "code",
   "execution_count": null,
   "metadata": {},
   "outputs": [],
   "source": [
    "from inference import OVStableDiffusionPipeline, Vae_Decoder, Text_Encoder, Unet\n",
    "from transformers import CLIPTokenizer\n",
    "from diffusers.schedulers import LMSDiscreteScheduler"
   ]
  },
  {
   "cell_type": "code",
   "execution_count": null,
   "metadata": {},
   "outputs": [],
   "source": [
    "lms = LMSDiscreteScheduler(\n",
    "    beta_start=0.00085, \n",
    "    beta_end=0.012, \n",
    "    beta_schedule=\"scaled_linear\"\n",
    ")\n",
    "tokenizer = CLIPTokenizer.from_pretrained('openai/clip-vit-large-patch14')\n",
    "\n",
    "vae_decoder = Vae_Decoder(\"https://vae-decoder-robert-serving-test.apps.rhods-internal.61tk.p1.openshiftapps.com/v2/models/vae-decoder/infer\")\n",
    "text_encoder = Text_Encoder(\"https://text-encoder2-robert-serving-test.apps.rhods-internal.61tk.p1.openshiftapps.com/v2/models/text-encoder2/infer\")\n",
    "unet_model = Unet(\"\")\n",
    "vae_encoder = None\n",
    "\n",
    "ov_pipe = OVStableDiffusionPipeline(\n",
    "    tokenizer=tokenizer,\n",
    "    text_encoder=text_encoder,\n",
    "    unet=unet_model,\n",
    "    vae_encoder=vae_encoder,\n",
    "    vae_decoder=vae_decoder,\n",
    "    scheduler=lms\n",
    ")\n",
    "\n",
    "text_prompt = \"cyberpunk cityscape like Tokyo New York  with tall buildings at dusk golden hour cinematic lighting, epic composition\\nA golden daylight, hyper-realistic environment\\nHyper and intricate detail, photo-realistic\\nCinematic and volumetric light\\nEpic concept art\\nOctane render and Unreal Engine, trending on artstation\"\n",
    "num_steps = 20\n",
    "seed = 42\n",
    "\n",
    "result = ov_pipe(text_prompt, num_inference_steps=num_steps, seed=seed)"
   ]
  },
  {
   "cell_type": "code",
   "execution_count": null,
   "metadata": {},
   "outputs": [],
   "source": [
    "final_image = result['sample'][0]\n",
    "final_image.save('result.png')"
   ]
  }
 ],
 "metadata": {
  "kernelspec": {
   "display_name": "fm",
   "language": "python",
   "name": "python3"
  },
  "language_info": {
   "codemirror_mode": {
    "name": "ipython",
    "version": 3
   },
   "file_extension": ".py",
   "mimetype": "text/x-python",
   "name": "python",
   "nbconvert_exporter": "python",
   "pygments_lexer": "ipython3",
   "version": "3.10.11"
  },
  "orig_nbformat": 4
 },
 "nbformat": 4,
 "nbformat_minor": 2
}
